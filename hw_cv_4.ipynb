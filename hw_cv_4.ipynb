{
  "nbformat": 4,
  "nbformat_minor": 0,
  "metadata": {
    "kernelspec": {
      "display_name": "Python 3",
      "language": "python",
      "name": "python3"
    },
    "language_info": {
      "codemirror_mode": {
        "name": "ipython",
        "version": 3
      },
      "file_extension": ".py",
      "mimetype": "text/x-python",
      "name": "python",
      "nbconvert_exporter": "python",
      "pygments_lexer": "ipython3",
      "version": "3.6.10"
    },
    "colab": {
      "name": "hw_cv_4.ipynb",
      "provenance": []
    }
  },
  "cells": [
    {
      "cell_type": "markdown",
      "metadata": {
        "id": "N_QSGfEcxvT1",
        "colab_type": "text"
      },
      "source": [
        "Домашнее задание к занятию \"Введение в нейронные сети\" \n",
        "Преподаватель: Егор Конягин Реализация логистической регрессии в tensorflow.\n",
        "\n",
        "Реализовать модель логистической регрессии. На базе шаблона 004-classification.ipynb необходимо реализовать операцию sigmoid в моделе логистической регрессии.\n",
        "\n",
        "Решение необходимо прислать в виде ipython-ноутбука с визуализацией разделяющей гиперплоскости, полученной в результате обучения."
      ]
    },
    {
      "cell_type": "markdown",
      "metadata": {
        "id": "lxtJ5pctxvT3",
        "colab_type": "text"
      },
      "source": [
        "# Реализация логистической регрессии в TensorFlow"
      ]
    },
    {
      "cell_type": "code",
      "metadata": {
        "id": "967cu8qexvT3",
        "colab_type": "code",
        "colab": {
          "base_uri": "https://localhost:8080/",
          "height": 51
        },
        "outputId": "3693ca39-98c2-4467-a9ca-c682e8f383d7"
      },
      "source": [
        "import numpy as np\n",
        "import tensorflow as tf\n",
        "\n",
        "print(tf.__version__)\n",
        "print(tf.executing_eagerly())"
      ],
      "execution_count": 8,
      "outputs": [
        {
          "output_type": "stream",
          "text": [
            "2.2.0\n",
            "True\n"
          ],
          "name": "stdout"
        }
      ]
    },
    {
      "cell_type": "markdown",
      "metadata": {
        "id": "3IR2ecovxvT9",
        "colab_type": "text"
      },
      "source": [
        "## Генерируем данные для задачи классификации"
      ]
    },
    {
      "cell_type": "code",
      "metadata": {
        "id": "edctk73GxvT-",
        "colab_type": "code",
        "colab": {}
      },
      "source": [
        "NUM_FEATURES = 2    # число признаков\n",
        "NUM_SAMPLES = 1000  # число объектов"
      ],
      "execution_count": 9,
      "outputs": []
    },
    {
      "cell_type": "code",
      "metadata": {
        "id": "zQCDA9oVxvUC",
        "colab_type": "code",
        "colab": {}
      },
      "source": [
        "from sklearn.datasets import make_classification\n",
        "from sklearn.model_selection import train_test_split\n",
        "\n",
        "X, y = make_classification(n_samples = NUM_SAMPLES,\n",
        "                           n_features = NUM_FEATURES,\n",
        "                           n_informative = NUM_FEATURES,\n",
        "                           n_redundant = 0,\n",
        "                           n_classes = 2,\n",
        "                           n_clusters_per_class = 1,\n",
        "                           class_sep = 0.75,\n",
        "                           random_state = 54312)\n",
        "\n",
        "y = y.reshape(-1, 1)\n",
        "y = np.double(y)"
      ],
      "execution_count": 10,
      "outputs": []
    },
    {
      "cell_type": "code",
      "metadata": {
        "id": "2N-DjAI8yR9-",
        "colab_type": "code",
        "colab": {
          "base_uri": "https://localhost:8080/",
          "height": 136
        },
        "outputId": "c837060b-55e7-451f-cdbe-bd5579eaf043"
      },
      "source": [
        "X"
      ],
      "execution_count": 11,
      "outputs": [
        {
          "output_type": "execute_result",
          "data": {
            "text/plain": [
              "array([[ 0.53090065, -0.72111157],\n",
              "       [ 0.15208848, -1.20929109],\n",
              "       [ 0.07470638, -0.12826567],\n",
              "       ...,\n",
              "       [ 0.05947586, -0.05329481],\n",
              "       [-0.1783635 , -0.46980986],\n",
              "       [ 0.47776816, -0.74742666]])"
            ]
          },
          "metadata": {
            "tags": []
          },
          "execution_count": 11
        }
      ]
    },
    {
      "cell_type": "code",
      "metadata": {
        "id": "vB9nVnufxvUF",
        "colab_type": "code",
        "colab": {
          "base_uri": "https://localhost:8080/",
          "height": 497
        },
        "outputId": "6e950b65-b1ec-401e-80f8-e3c9c2135e58"
      },
      "source": [
        "%matplotlib inline\n",
        "from matplotlib import pyplot as plt\n",
        "\n",
        "ones = np.where(y == 1)   # индексы объектов класса '1'\n",
        "zeros = np.where(y == 0)  # индексы объектов класса '0'\n",
        "\n",
        "plt.figure(figsize=(10, 8))\n",
        "plt.plot(X[ones, 0], X[ones, 1], 'ob',\n",
        "         X[zeros, 0], X[zeros, 1], 'or')\n",
        "plt.xlabel('X1')\n",
        "plt.ylabel('X2');"
      ],
      "execution_count": 12,
      "outputs": [
        {
          "output_type": "display_data",
          "data": {
            "image/png": "[encoded data removed]",
            "text/plain": [
              "<Figure size 720x576 with 1 Axes>"
            ]
          },
          "metadata": {
            "tags": [],
            "needs_background": "light"
          }
        }
      ]
    },
    {
      "cell_type": "markdown",
      "metadata": {
        "id": "n8verdWxxvUJ",
        "colab_type": "text"
      },
      "source": [
        "## Логистическая регрессия"
      ]
    },
    {
      "cell_type": "markdown",
      "metadata": {
        "id": "Qizf3UzgxvUJ",
        "colab_type": "text"
      },
      "source": [
        "$$p_i=\\frac{1}{1 + e^{-(x_i \\cdot w + b)}}$$\n",
        "\n",
        "$$loss=-\\sum y_i\\log(p_i) + (1 - y_i)\\log(1 - p_i)$$"
      ]
    },
    {
      "cell_type": "markdown",
      "metadata": {
        "id": "TPx0IuSexvUK",
        "colab_type": "text"
      },
      "source": [
        "## Функции для обучения модели"
      ]
    },
    {
      "cell_type": "code",
      "metadata": {
        "id": "5XwU3aE8xvUL",
        "colab_type": "code",
        "colab": {}
      },
      "source": [
        "@tf.custom_gradient\n",
        "def sigmoid(x):\n",
        "    x = tf.convert_to_tensor(x)\n",
        "    s = 1. / (1. + tf.exp(-x)) #y_pred\n",
        "    def grad(dy):\n",
        "      dy = s*(1-s)\n",
        "      dy = tf.zeros_like(dy)\n",
        "# TODO: реализовать шаг градиента для функции sigmoid\n",
        "        # def sigmoid (x): return 1/(1 + np.exp(-x))      # activation function\n",
        "        # def sigmoid_(x): return x * (1 - x)             # derivative of sigmoid\n",
        "      return dy\n",
        "    return s, grad\n",
        "\n",
        "def log_loss(y, prediction):\n",
        "    y = tf.convert_to_tensor(y)\n",
        "    loss = y * tf.math.log(prediction)\n",
        "    loss += (1. - y) * tf.math.log(1. - prediction)\n",
        "    return - tf.reduce_mean(loss)\n",
        "\n",
        "def accuracy(y, y_pred):\n",
        "    y_pred = np.where(y_pred > 0.5, 1., 0.)\n",
        "    return 1.0 * np.sum(y_pred == y) / len(y)"
      ],
      "execution_count": 31,
      "outputs": []
    },
    {
      "cell_type": "markdown",
      "metadata": {
        "id": "cw-zDjrBxvUO",
        "colab_type": "text"
      },
      "source": [
        "## Обучение модели"
      ]
    },
    {
      "cell_type": "code",
      "metadata": {
        "id": "L442IQJ2xvUP",
        "colab_type": "code",
        "colab": {
          "base_uri": "https://localhost:8080/",
          "height": 527
        },
        "outputId": "0bcb5604-f6ad-4451-fec8-36db98e96409"
      },
      "source": [
        "# создаем переменные для хранения весов модели\n",
        "w = tf.Variable(\n",
        "    np.random.normal(size=(NUM_FEATURES, 1)),\n",
        "    dtype=tf.double, name='w')\n",
        "\n",
        "b = tf.Variable(0.0, dtype=tf.double, name='b')\n",
        "\n",
        "# функция для вычисления предсказание модели\n",
        "def predict(x):\n",
        "    x = tf.convert_to_tensor(x)\n",
        "    d = tf.matmul(x, w)\n",
        "    return sigmoid(d + b)\n",
        "\n",
        "\n",
        "# разделяем выборку на обучающую и на тестовую группы\n",
        "(X_train, X_test,\n",
        " y_train, y_test) = train_test_split(X, y, \n",
        "                                     test_size=0.33,\n",
        "                                     random_state=12345)\n",
        "\n",
        "test_loss_results = []\n",
        "test_accuracy_results = []\n",
        "\n",
        "lr = 5e-2  # скорость обучения\n",
        "\n",
        "for i in range(300):\n",
        "    with tf.GradientTape() as g:\n",
        "        # вычисляем значение функции потерь для обучающей выборки\n",
        "        y_pred = predict(X_train)\n",
        "        loss = log_loss(y_train, y_pred)\n",
        "\n",
        "    # вычисляем значение градиента для параметров модели\n",
        "    dw, db = g.gradient(loss, [w, b])\n",
        "\n",
        "    # обновляем параметры модели с учетом значений градиентов\n",
        "    w.assign_sub(lr * dw)\n",
        "    b.assign_sub(lr * db)\n",
        "\n",
        "    if i % 10 == 0:\n",
        "        # логируем метрики на тестовой выборке\n",
        "        y_pred = predict(X_test)\n",
        "        test_loss_results.append(log_loss(np.double(y_test), y_pred).numpy())\n",
        "        test_accuracy_results.append(accuracy(y_test, y_pred.numpy()))\n",
        "        print('[%03d] loss=%.3f acc=%.3f' % (i,\n",
        "                                             test_loss_results[-1],\n",
        "                                             test_accuracy_results[-1]))"
      ],
      "execution_count": 32,
      "outputs": [
        {
          "output_type": "stream",
          "text": [
            "[000] loss=1.137 acc=0.118\n",
            "[010] loss=1.137 acc=0.118\n",
            "[020] loss=1.137 acc=0.118\n",
            "[030] loss=1.137 acc=0.118\n",
            "[040] loss=1.137 acc=0.118\n",
            "[050] loss=1.137 acc=0.118\n",
            "[060] loss=1.137 acc=0.118\n",
            "[070] loss=1.137 acc=0.118\n",
            "[080] loss=1.137 acc=0.118\n",
            "[090] loss=1.137 acc=0.118\n",
            "[100] loss=1.137 acc=0.118\n",
            "[110] loss=1.137 acc=0.118\n",
            "[120] loss=1.137 acc=0.118\n",
            "[130] loss=1.137 acc=0.118\n",
            "[140] loss=1.137 acc=0.118\n",
            "[150] loss=1.137 acc=0.118\n",
            "[160] loss=1.137 acc=0.118\n",
            "[170] loss=1.137 acc=0.118\n",
            "[180] loss=1.137 acc=0.118\n",
            "[190] loss=1.137 acc=0.118\n",
            "[200] loss=1.137 acc=0.118\n",
            "[210] loss=1.137 acc=0.118\n",
            "[220] loss=1.137 acc=0.118\n",
            "[230] loss=1.137 acc=0.118\n",
            "[240] loss=1.137 acc=0.118\n",
            "[250] loss=1.137 acc=0.118\n",
            "[260] loss=1.137 acc=0.118\n",
            "[270] loss=1.137 acc=0.118\n",
            "[280] loss=1.137 acc=0.118\n",
            "[290] loss=1.137 acc=0.118\n"
          ],
          "name": "stdout"
        }
      ]
    },
    {
      "cell_type": "markdown",
      "metadata": {
        "id": "LapW8FfixvUT",
        "colab_type": "text"
      },
      "source": [
        "## Визуализируем кривую обучения"
      ]
    },
    {
      "cell_type": "code",
      "metadata": {
        "id": "BG0SpHYfxvUU",
        "colab_type": "code",
        "colab": {
          "base_uri": "https://localhost:8080/",
          "height": 558
        },
        "outputId": "07aeb725-7ce6-4a3e-9614-65ffbb3c18c4"
      },
      "source": [
        "fig, axes = plt.subplots(2, sharex=True, figsize=(10, 8))\n",
        "fig.suptitle('Metrics')\n",
        "\n",
        "axes[0].set_ylabel(\"Loss\", fontsize=14)\n",
        "axes[0].plot(test_loss_results)\n",
        "\n",
        "axes[1].set_ylabel(\"Accuracy\", fontsize=14)\n",
        "axes[1].set_xlabel(\"Epoch\", fontsize=14)\n",
        "axes[1].plot(test_accuracy_results)\n",
        "plt.show()"
      ],
      "execution_count": 33,
      "outputs": [
        {
          "output_type": "display_data",
          "data": {
            "image/png": "[encoded data removed]",
            "text/plain": [
              "<Figure size 720x576 with 2 Axes>"
            ]
          },
          "metadata": {
            "tags": [],
            "needs_background": "light"
          }
        }
      ]
    },
    {
      "cell_type": "markdown",
      "metadata": {
        "id": "TlL-H1-ZxvUY",
        "colab_type": "text"
      },
      "source": [
        "## Визуализируем разделяющую гиперплоскость "
      ]
    },
    {
      "cell_type": "code",
      "metadata": {
        "id": "XduEAMPkxvUZ",
        "colab_type": "code",
        "colab": {
          "base_uri": "https://localhost:8080/",
          "height": 513
        },
        "outputId": "d3dd91b4-dacf-45dd-fb3d-02a64c53c334"
      },
      "source": [
        "w1, w2 = w.numpy()\n",
        "\n",
        "plane = - X[:, 0] * w1 / w2 - b.numpy() / w2\n",
        "\n",
        "order = np.argsort(X[:, 0])\n",
        "\n",
        "plt.figure(figsize=(10, 8))\n",
        "plt.title('Hyper plane: w1=%.3f w2=%.3f b=%.3f'\n",
        "          % (w1, w2, b.numpy()))\n",
        "\n",
        "plt.plot(X[ones, 0], X[ones, 1], 'ob',\n",
        "         X[zeros, 0], X[zeros, 1], 'or',\n",
        "         X[order, 0], plane[order], '-g')\n",
        "\n",
        "plt.xlabel('X1')\n",
        "plt.ylabel('X2');"
      ],
      "execution_count": 34,
      "outputs": [
        {
          "output_type": "display_data",
          "data": {
            "image/png": "[encoded data removed]",
            "text/plain": [
              "<Figure size 720x576 with 1 Axes>"
            ]
          },
          "metadata": {
            "tags": [],
            "needs_background": "light"
          }
        }
      ]
    }
  ]
}